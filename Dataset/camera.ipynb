{
 "cells": [
  {
   "cell_type": "code",
   "execution_count": null,
   "metadata": {},
   "outputs": [],
   "source": [
    "import os\n",
    "import trimesh\n",
    "import pyrender\n",
    "import numpy as np\n",
    "from get_mesh import as_mesh\n",
    "import matplotlib.pyplot as plt\n",
    "import imageio"
   ]
  },
  {
   "cell_type": "code",
   "execution_count": null,
   "metadata": {},
   "outputs": [],
   "source": [
    "egypt = trimesh.load('../Dataset/egypt_model/baked_mesh.obj')\n",
    "egypt_trimesh = as_mesh(egypt)\n",
    "egypt_mesh = pyrender.Mesh.from_trimesh(egypt_trimesh)\n",
    "\n",
    "picture_folder = 'egypt_picture_data'\n",
    "os.makedirs(picture_folder, exist_ok=True)"
   ]
  },
  {
   "cell_type": "code",
   "execution_count": null,
   "metadata": {},
   "outputs": [],
   "source": [
    "def generate_points(radius, num_points):\n",
    "    theta_values = np.linspace(0, np.pi, num_points)\n",
    "    phi_values = np.linspace(0, np.pi, num_points)\n",
    "    points = []\n",
    "\n",
    "    for phi in phi_values:\n",
    "        for theta in theta_values:\n",
    "            x = radius * np.cos(theta) * np.cos(phi)\n",
    "            y = radius * np.sin(theta) * np.cos(phi)\n",
    "            z = radius * np.sin(phi)\n",
    "            points.append((x, z, y))\n",
    "\n",
    "    return points\n",
    "\n",
    "\n",
    "\n",
    "focal = 0.8\n",
    "\n",
    "points_on_semicircle = generate_points(focal, 10)"
   ]
  },
  {
   "cell_type": "code",
   "execution_count": null,
   "metadata": {},
   "outputs": [],
   "source": [
    "camera_positions = []\n",
    "\n",
    "for i, point in enumerate(points_on_semicircle):\n",
    "    camera_position =  np.array(point)\n",
    "    camera_target = np.array([0,0,0])\n",
    "    # D = camera_target - camera_position        # camera direction\n",
    "    D = camera_position - camera_target\n",
    "    D = D / np.linalg.norm(D) if np.linalg.norm(D) != 0 else D\n",
    "    # print(f'D {D}')\n",
    "\n",
    "    up = np.array([0,1,0])\n",
    "    R = np.cross(up, D)\n",
    "    R = R / np.linalg.norm(R) if np.linalg.norm(R) != 0 else R\n",
    "    # print(f'R {R}')\n",
    "\n",
    "    U = np.cross(D, R)\n",
    "    # print(f'U {U}')\n",
    "\n",
    "    rotation = np.eye(4)\n",
    "    rotation[0:3, 0] = R\n",
    "    rotation[0:3, 1] = U\n",
    "    rotation[0:3, 2] = D\n",
    "    # print(rotation)\n",
    "\n",
    "    import copy\n",
    "    r_t = copy.deepcopy(rotation)\n",
    "    r_t[0:3,3] = camera_position\n",
    "    camera_positions.append(r_t)\n",
    "\n",
    "np.savez('camera_positions.npz', arr1=camera_positions)"
   ]
  },
  {
   "cell_type": "code",
   "execution_count": null,
   "metadata": {},
   "outputs": [],
   "source": [
    "scene = pyrender.Scene()\n",
    "scene.add(egypt_mesh, name='egypt')\n",
    "\n",
    "for i, camera_pose in enumerate(camera_positions):\n",
    "    camera = pyrender.PerspectiveCamera(yfov=np.pi / 3.0, aspectRatio=1.0)\n",
    "    camera_node = scene.add(camera, pose=camera_pose)\n",
    "\n",
    "    DireLight = pyrender.DirectionalLight(color=np.ones(3), intensity=15.0)\n",
    "    light_node = scene.add(DireLight, pose=camera_pose)\n",
    "\n",
    "    r = pyrender.OffscreenRenderer(viewport_height=1800, viewport_width=1800)\n",
    "    color, depth = r.render(scene)\n",
    "\n",
    "    img_filename = os.path.join(picture_folder, f'egypt_image_{i}.png')\n",
    "    imageio.imwrite(img_filename, color)\n",
    "\n",
    "    scene.remove_node(camera_node)\n",
    "    scene.remove_node(light_node)\n",
    "    r.delete()"
   ]
  }
 ],
 "metadata": {
  "kernelspec": {
   "display_name": "3D-GPU",
   "language": "python",
   "name": "python3"
  },
  "language_info": {
   "codemirror_mode": {
    "name": "ipython",
    "version": 3
   },
   "file_extension": ".py",
   "mimetype": "text/x-python",
   "name": "python",
   "nbconvert_exporter": "python",
   "pygments_lexer": "ipython3",
   "version": "3.11.4"
  },
  "orig_nbformat": 4
 },
 "nbformat": 4,
 "nbformat_minor": 2
}
